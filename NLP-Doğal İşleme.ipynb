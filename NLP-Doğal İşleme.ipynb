{
 "cells": [
  {
   "cell_type": "markdown",
   "id": "45357bde",
   "metadata": {},
   "source": [
    "# NLP- Natural Language Processing -Doğal Dil İşleme"
   ]
  },
  {
   "cell_type": "markdown",
   "id": "a69c1464",
   "metadata": {},
   "source": [
    "Doğal dil işleme....."
   ]
  },
  {
   "cell_type": "markdown",
   "id": "fd409b83",
   "metadata": {},
   "source": [
    "### Install Libraries and import"
   ]
  },
  {
   "cell_type": "code",
   "execution_count": 2,
   "id": "ebe3c33c",
   "metadata": {},
   "outputs": [],
   "source": [
    "import warnings\n",
    "warnings.filterwarnings('ignore')"
   ]
  },
  {
   "cell_type": "code",
   "execution_count": 3,
   "id": "62bab43f",
   "metadata": {
    "collapsed": true
   },
   "outputs": [
    {
     "name": "stdout",
     "output_type": "stream",
     "text": [
      "Defaulting to user installation because normal site-packages is not writeable\n",
      "Requirement already satisfied: nltk in c:\\users\\emura\\appdata\\roaming\\python\\python311\\site-packages (3.8.1)\n",
      "Requirement already satisfied: click in c:\\programdata\\anaconda3\\lib\\site-packages (from nltk) (8.0.4)\n",
      "Requirement already satisfied: joblib in c:\\programdata\\anaconda3\\lib\\site-packages (from nltk) (1.2.0)\n",
      "Requirement already satisfied: regex>=2021.8.3 in c:\\programdata\\anaconda3\\lib\\site-packages (from nltk) (2022.7.9)\n",
      "Requirement already satisfied: tqdm in c:\\users\\emura\\appdata\\roaming\\python\\python311\\site-packages (from nltk) (4.66.2)\n",
      "Requirement already satisfied: colorama in c:\\programdata\\anaconda3\\lib\\site-packages (from click->nltk) (0.4.6)\n"
     ]
    }
   ],
   "source": [
    "!pip install nltk"
   ]
  },
  {
   "cell_type": "code",
   "execution_count": 4,
   "id": "bd62f101",
   "metadata": {},
   "outputs": [],
   "source": [
    "import nltk"
   ]
  },
  {
   "cell_type": "code",
   "execution_count": 5,
   "id": "8c859d3c",
   "metadata": {},
   "outputs": [
    {
     "name": "stderr",
     "output_type": "stream",
     "text": [
      "[nltk_data] Downloading package punkt to\n",
      "[nltk_data]     C:\\Users\\emura\\AppData\\Roaming\\nltk_data...\n",
      "[nltk_data]   Package punkt is already up-to-date!\n"
     ]
    },
    {
     "data": {
      "text/plain": [
       "True"
      ]
     },
     "execution_count": 5,
     "metadata": {},
     "output_type": "execute_result"
    }
   ],
   "source": [
    "nltk.download('punkt')"
   ]
  },
  {
   "cell_type": "code",
   "execution_count": 7,
   "id": "5349d37a",
   "metadata": {},
   "outputs": [],
   "source": [
    "text='BTK AKademi Antalya İleri Makine öğrenmesi atölyesi'"
   ]
  },
  {
   "cell_type": "markdown",
   "id": "739a6791",
   "metadata": {},
   "source": [
    "### STR metotalrı"
   ]
  },
  {
   "cell_type": "code",
   "execution_count": 8,
   "id": "b92384c5",
   "metadata": {},
   "outputs": [
    {
     "data": {
      "text/plain": [
       "'Btk Akademi Antalya İleri Makine Öğrenmesi Atölyesi'"
      ]
     },
     "execution_count": 8,
     "metadata": {},
     "output_type": "execute_result"
    }
   ],
   "source": [
    "text.title() # string metotalrı"
   ]
  },
  {
   "cell_type": "code",
   "execution_count": 9,
   "id": "c3c81e1b",
   "metadata": {},
   "outputs": [
    {
     "data": {
      "text/plain": [
       "'Btk akademi antalya i̇leri makine öğrenmesi atölyesi'"
      ]
     },
     "execution_count": 9,
     "metadata": {},
     "output_type": "execute_result"
    }
   ],
   "source": [
    "text.capitalize()"
   ]
  },
  {
   "cell_type": "code",
   "execution_count": 10,
   "id": "4bb7e7f0",
   "metadata": {},
   "outputs": [
    {
     "data": {
      "text/plain": [
       "'BTK AKADEMI ANTALYA İLERI MAKINE ÖĞRENMESI ATÖLYESI'"
      ]
     },
     "execution_count": 10,
     "metadata": {},
     "output_type": "execute_result"
    }
   ],
   "source": [
    "text.upper()"
   ]
  },
  {
   "cell_type": "code",
   "execution_count": 11,
   "id": "93db5f45",
   "metadata": {},
   "outputs": [
    {
     "data": {
      "text/plain": [
       "'BTK AKademi Antalya İleri Makine öğrenmesi atölyesi'"
      ]
     },
     "execution_count": 11,
     "metadata": {},
     "output_type": "execute_result"
    }
   ],
   "source": [
    "text"
   ]
  },
  {
   "cell_type": "code",
   "execution_count": 12,
   "id": "d6756b9f",
   "metadata": {},
   "outputs": [
    {
     "data": {
      "text/plain": [
       "'btk akademi antalya i̇leri makine öğrenmesi atölyesi'"
      ]
     },
     "execution_count": 12,
     "metadata": {},
     "output_type": "execute_result"
    }
   ],
   "source": [
    "text.lower()"
   ]
  },
  {
   "cell_type": "code",
   "execution_count": 13,
   "id": "5601d44a",
   "metadata": {},
   "outputs": [],
   "source": [
    "text2=text.title()"
   ]
  },
  {
   "cell_type": "code",
   "execution_count": 16,
   "id": "3e59129a",
   "metadata": {},
   "outputs": [
    {
     "data": {
      "text/plain": [
       "'Btk Akademi Antalya İleri Makine Öğrenmesi Atölyesi'"
      ]
     },
     "execution_count": 16,
     "metadata": {},
     "output_type": "execute_result"
    }
   ],
   "source": [
    "text2"
   ]
  },
  {
   "cell_type": "code",
   "execution_count": 17,
   "id": "1872f12e",
   "metadata": {},
   "outputs": [
    {
     "data": {
      "text/plain": [
       "['BTK', 'AKademi', 'Antalya', 'İleri', 'Makine', 'öğrenmesi', 'atölyesi']"
      ]
     },
     "execution_count": 17,
     "metadata": {},
     "output_type": "execute_result"
    }
   ],
   "source": [
    "text.split()"
   ]
  },
  {
   "cell_type": "code",
   "execution_count": 18,
   "id": "4e301ec0",
   "metadata": {},
   "outputs": [],
   "source": [
    "text_list=text.split()"
   ]
  },
  {
   "cell_type": "code",
   "execution_count": 20,
   "id": "c8eb0e51",
   "metadata": {},
   "outputs": [
    {
     "name": "stdout",
     "output_type": "stream",
     "text": [
      "BTK\n",
      "AKademi\n",
      "Antalya\n",
      "İleri\n",
      "Makine\n",
      "öğrenmesi\n",
      "atölyesi\n"
     ]
    }
   ],
   "source": [
    "for sozcuk in text_list:\n",
    "    print(sozcuk)"
   ]
  },
  {
   "cell_type": "code",
   "execution_count": 25,
   "id": "13e0857d",
   "metadata": {},
   "outputs": [
    {
     "data": {
      "text/plain": [
       "'BTK AKademi kursuna hoş geldiniz. Kursumuz devam ediyor. 3. haftada NLP uygulamaları yapıyoruz.'"
      ]
     },
     "execution_count": 25,
     "metadata": {},
     "output_type": "execute_result"
    }
   ],
   "source": [
    "text3=\"BTK AKademi kursuna hoş geldiniz. Kursumuz devam ediyor. 3. haftada NLP uygulamaları yapıyoruz.\"\n",
    "text3"
   ]
  },
  {
   "cell_type": "code",
   "execution_count": 29,
   "id": "db66ae56",
   "metadata": {},
   "outputs": [],
   "source": [
    "from nltk.tokenize import sent_tokenize, word_tokenize"
   ]
  },
  {
   "cell_type": "code",
   "execution_count": 27,
   "id": "bd60b744",
   "metadata": {},
   "outputs": [
    {
     "data": {
      "text/plain": [
       "['BTK AKademi kursuna hoş geldiniz.',\n",
       " 'Kursumuz devam ediyor.',\n",
       " '3. haftada NLP uygulamaları yapıyoruz.']"
      ]
     },
     "execution_count": 27,
     "metadata": {},
     "output_type": "execute_result"
    }
   ],
   "source": [
    "sent_tokenize(text3)"
   ]
  },
  {
   "cell_type": "code",
   "execution_count": 30,
   "id": "eda5cc99",
   "metadata": {},
   "outputs": [
    {
     "data": {
      "text/plain": [
       "['BTK',\n",
       " 'AKademi',\n",
       " 'kursuna',\n",
       " 'hoş',\n",
       " 'geldiniz',\n",
       " '.',\n",
       " 'Kursumuz',\n",
       " 'devam',\n",
       " 'ediyor',\n",
       " '.',\n",
       " '3.',\n",
       " 'haftada',\n",
       " 'NLP',\n",
       " 'uygulamaları',\n",
       " 'yapıyoruz',\n",
       " '.']"
      ]
     },
     "execution_count": 30,
     "metadata": {},
     "output_type": "execute_result"
    }
   ],
   "source": [
    "word_tokenize(text3)"
   ]
  },
  {
   "cell_type": "code",
   "execution_count": 36,
   "id": "26770936",
   "metadata": {},
   "outputs": [],
   "source": [
    "from nltk.tokenize import WordPunctTokenizer, BlanklineTokenizer"
   ]
  },
  {
   "cell_type": "code",
   "execution_count": 32,
   "id": "58ba3b48",
   "metadata": {},
   "outputs": [],
   "source": [
    "sent_text='''\n",
    "Merhaba hocam \n",
    "Nasılsınız?\n",
    "Sınavdan 90 aldım. 100 bekliyordum.\n",
    "Sınav kağıdıma tekrar bakarsanız sevinirim.\n",
    "\n",
    "'''"
   ]
  },
  {
   "cell_type": "code",
   "execution_count": 33,
   "id": "2ca3ae48",
   "metadata": {
    "collapsed": true
   },
   "outputs": [
    {
     "data": {
      "text/plain": [
       "['Merhaba',\n",
       " 'hocam',\n",
       " 'Nasılsınız',\n",
       " '?',\n",
       " 'Sınavdan',\n",
       " '90',\n",
       " 'aldım',\n",
       " '.',\n",
       " '100',\n",
       " 'bekliyordum',\n",
       " '.',\n",
       " 'Sınav',\n",
       " 'kağıdıma',\n",
       " 'tekrar',\n",
       " 'bakarsanız',\n",
       " 'sevinirim',\n",
       " '.']"
      ]
     },
     "execution_count": 33,
     "metadata": {},
     "output_type": "execute_result"
    }
   ],
   "source": [
    "WordPunctTokenizer().tokenize(sent_text)"
   ]
  },
  {
   "cell_type": "code",
   "execution_count": 37,
   "id": "4adcac12",
   "metadata": {},
   "outputs": [
    {
     "data": {
      "text/plain": [
       "['\\nMerhaba hocam \\nNasılsınız?\\nSınavdan 90 aldım. 100 bekliyordum.\\nSınav kağıdıma tekrar bakarsanız sevinirim.']"
      ]
     },
     "execution_count": 37,
     "metadata": {},
     "output_type": "execute_result"
    }
   ],
   "source": [
    "BlanklineTokenizer().tokenize(sent_text)"
   ]
  },
  {
   "cell_type": "code",
   "execution_count": 38,
   "id": "4bdedfa8",
   "metadata": {},
   "outputs": [
    {
     "name": "stdout",
     "output_type": "stream",
     "text": [
      "Merhaba\n",
      "nasılsınız?\n"
     ]
    }
   ],
   "source": [
    "print('Merhaba\\nnasılsınız?') #new line"
   ]
  },
  {
   "cell_type": "code",
   "execution_count": 39,
   "id": "503092a5",
   "metadata": {},
   "outputs": [
    {
     "name": "stdout",
     "output_type": "stream",
     "text": [
      "\n",
      "Merhaba hocam \n",
      "Nasılsınız?\n",
      "Sınavdan 90 aldım. 100 bekliyordum.\n",
      "Sınav kağıdıma tekrar bakarsanız sevinirim.\n"
     ]
    }
   ],
   "source": [
    "print ('\\nMerhaba hocam \\nNasılsınız?\\nSınavdan 90 aldım. 100 bekliyordum.\\nSınav kağıdıma tekrar bakarsanız sevinirim.')"
   ]
  },
  {
   "cell_type": "code",
   "execution_count": 40,
   "id": "52165dc5",
   "metadata": {},
   "outputs": [],
   "source": [
    "from nltk.tokenize import RegexpTokenizer"
   ]
  },
  {
   "cell_type": "code",
   "execution_count": 41,
   "id": "bc7f076a",
   "metadata": {},
   "outputs": [
    {
     "data": {
      "text/plain": [
       "['\\n', ' ', ' \\n', '\\n', ' ', ' ', ' ', ' ', '\\n', ' ', ' ', ' ', ' ', '\\n\\n']"
      ]
     },
     "execution_count": 41,
     "metadata": {},
     "output_type": "execute_result"
    }
   ],
   "source": [
    "RegexpTokenizer('\\s+').tokenize(sent_text)"
   ]
  },
  {
   "cell_type": "code",
   "execution_count": 42,
   "id": "817eee28",
   "metadata": {},
   "outputs": [
    {
     "data": {
      "text/plain": [
       "['Merhaba',\n",
       " 'hocam',\n",
       " 'Nasılsınız?',\n",
       " 'Sınavdan',\n",
       " '90',\n",
       " 'aldım.',\n",
       " '100',\n",
       " 'bekliyordum.',\n",
       " 'Sınav',\n",
       " 'kağıdıma',\n",
       " 'tekrar',\n",
       " 'bakarsanız',\n",
       " 'sevinirim.']"
      ]
     },
     "execution_count": 42,
     "metadata": {},
     "output_type": "execute_result"
    }
   ],
   "source": [
    "RegexpTokenizer('\\s+',gaps=True).tokenize(sent_text)"
   ]
  },
  {
   "cell_type": "code",
   "execution_count": 58,
   "id": "476add1e",
   "metadata": {},
   "outputs": [],
   "source": [
    "sent='She secures 90% in class Xz In. She is a Meritorius student.'"
   ]
  },
  {
   "cell_type": "code",
   "execution_count": 59,
   "id": "193d9e74",
   "metadata": {},
   "outputs": [],
   "source": [
    "cap=RegexpTokenizer('[A-Z]\\w+')"
   ]
  },
  {
   "cell_type": "code",
   "execution_count": 60,
   "id": "1c85a488",
   "metadata": {},
   "outputs": [
    {
     "data": {
      "text/plain": [
       "['She', 'Xz', 'In', 'She', 'Meritorius']"
      ]
     },
     "execution_count": 60,
     "metadata": {},
     "output_type": "execute_result"
    }
   ],
   "source": [
    "cap.tokenize(sent)"
   ]
  },
  {
   "cell_type": "code",
   "execution_count": 61,
   "id": "df0d760f",
   "metadata": {},
   "outputs": [
    {
     "data": {
      "text/plain": [
       "'Mart'"
      ]
     },
     "execution_count": 61,
     "metadata": {},
     "output_type": "execute_result"
    }
   ],
   "source": [
    "değişken='Mart'\n",
    "değişken"
   ]
  },
  {
   "cell_type": "markdown",
   "id": "7514cf25",
   "metadata": {},
   "source": [
    "### Stemming Lemmatization"
   ]
  },
  {
   "cell_type": "code",
   "execution_count": 62,
   "id": "d7cae25c",
   "metadata": {},
   "outputs": [],
   "source": [
    "from nltk.stem import PorterStemmer"
   ]
  },
  {
   "cell_type": "code",
   "execution_count": 64,
   "id": "9a2c874c",
   "metadata": {},
   "outputs": [],
   "source": [
    "pr=PorterStemmer()"
   ]
  },
  {
   "cell_type": "code",
   "execution_count": 65,
   "id": "6f85a03b",
   "metadata": {},
   "outputs": [
    {
     "data": {
      "text/plain": [
       "'talk'"
      ]
     },
     "execution_count": 65,
     "metadata": {},
     "output_type": "execute_result"
    }
   ],
   "source": [
    "pr.stem('talking')"
   ]
  },
  {
   "cell_type": "markdown",
   "id": "e68a84ac",
   "metadata": {},
   "source": [
    "### Sözcükten ekleri atma-Stemming"
   ]
  },
  {
   "cell_type": "code",
   "execution_count": 70,
   "id": "110ec9a7",
   "metadata": {},
   "outputs": [],
   "source": [
    "words=['houses', 'trains','pens','cars', 'eaten','sick', 'nice', 'bought', 'selling', 'sized',\n",
    "      'speech', 'rolling', 'marching','identification','universal','beatiful','references' ]"
   ]
  },
  {
   "cell_type": "code",
   "execution_count": 71,
   "id": "60af2749",
   "metadata": {},
   "outputs": [],
   "source": [
    "eki_cikar=[pr.stem(word) for word in words]"
   ]
  },
  {
   "cell_type": "code",
   "execution_count": 73,
   "id": "538a71f1",
   "metadata": {},
   "outputs": [
    {
     "name": "stdout",
     "output_type": "stream",
     "text": [
      "['hous', 'train', 'pen', 'car', 'eaten', 'sick', 'nice', 'bought', 'sell', 'size', 'speech', 'roll', 'march', 'identif', 'univers', 'beati', 'refer']\n"
     ]
    }
   ],
   "source": [
    "print(eki_cikar)"
   ]
  },
  {
   "cell_type": "code",
   "execution_count": 74,
   "id": "98596e52",
   "metadata": {},
   "outputs": [],
   "source": [
    "from nltk.stem import WordNetLemmatizer\n",
    "lem=WordNetLemmatizer()"
   ]
  },
  {
   "cell_type": "code",
   "execution_count": 79,
   "id": "ae99c184",
   "metadata": {},
   "outputs": [
    {
     "data": {
      "text/plain": [
       "'work'"
      ]
     },
     "execution_count": 79,
     "metadata": {},
     "output_type": "execute_result"
    }
   ],
   "source": [
    "lem.lemmatize('working',pos='v')"
   ]
  },
  {
   "cell_type": "code",
   "execution_count": 80,
   "id": "2a46feac",
   "metadata": {},
   "outputs": [
    {
     "data": {
      "text/plain": [
       "'take'"
      ]
     },
     "execution_count": 80,
     "metadata": {},
     "output_type": "execute_result"
    }
   ],
   "source": [
    "lem.lemmatize('took',pos='v')"
   ]
  },
  {
   "cell_type": "code",
   "execution_count": 81,
   "id": "8c9afc70",
   "metadata": {},
   "outputs": [
    {
     "data": {
      "text/plain": [
       "'house'"
      ]
     },
     "execution_count": 81,
     "metadata": {},
     "output_type": "execute_result"
    }
   ],
   "source": [
    "lem.lemmatize('houses',pos='n')"
   ]
  },
  {
   "cell_type": "code",
   "execution_count": 86,
   "id": "5500f1eb",
   "metadata": {},
   "outputs": [
    {
     "name": "stderr",
     "output_type": "stream",
     "text": [
      "[nltk_data] Downloading package averaged_perceptron_tagger to\n",
      "[nltk_data]     C:\\Users\\emura\\AppData\\Roaming\\nltk_data...\n",
      "[nltk_data]   Package averaged_perceptron_tagger is already up-to-\n",
      "[nltk_data]       date!\n"
     ]
    },
    {
     "data": {
      "text/plain": [
       "[('It', 'PRP'),\n",
       " ('is', 'VBZ'),\n",
       " ('a', 'DT'),\n",
       " ('pleasent', 'JJ'),\n",
       " ('day', 'NN'),\n",
       " ('today', 'NN')]"
      ]
     },
     "execution_count": 86,
     "metadata": {},
     "output_type": "execute_result"
    }
   ],
   "source": [
    "nltk.download('averaged_perceptron_tagger');\n",
    "text=word_tokenize('It is a pleasent day today')\n",
    "nltk.pos_tag(text)"
   ]
  },
  {
   "cell_type": "code",
   "execution_count": 87,
   "id": "3bc9b275",
   "metadata": {},
   "outputs": [
    {
     "name": "stdout",
     "output_type": "stream",
     "text": [
      "Defaulting to user installation because normal site-packages is not writeableNote: you may need to restart the kernel to use updated packages.\n",
      "\n",
      "Requirement already satisfied: autocorrect in c:\\users\\emura\\appdata\\roaming\\python\\python311\\site-packages (2.6.1)\n"
     ]
    }
   ],
   "source": [
    "pip install autocorrect"
   ]
  },
  {
   "cell_type": "code",
   "execution_count": 88,
   "id": "6db6ffe6",
   "metadata": {},
   "outputs": [],
   "source": [
    "from autocorrect import Speller\n",
    "spell=Speller()"
   ]
  },
  {
   "cell_type": "code",
   "execution_count": 89,
   "id": "3ca4069c",
   "metadata": {},
   "outputs": [
    {
     "data": {
      "text/plain": [
       "'my spelling is good'"
      ]
     },
     "execution_count": 89,
     "metadata": {},
     "output_type": "execute_result"
    }
   ],
   "source": [
    "spell('my spelling is goad')"
   ]
  },
  {
   "cell_type": "code",
   "execution_count": 91,
   "id": "9726ab22",
   "metadata": {
    "collapsed": true
   },
   "outputs": [
    {
     "name": "stdout",
     "output_type": "stream",
     "text": [
      "Defaulting to user installation because normal site-packages is not writeableNote: you may need to restart the kernel to use updated packages.\n",
      "\n",
      "Requirement already satisfied: textblob in c:\\users\\emura\\appdata\\roaming\\python\\python311\\site-packages (0.18.0.post0)\n",
      "Requirement already satisfied: nltk>=3.8 in c:\\users\\emura\\appdata\\roaming\\python\\python311\\site-packages (from textblob) (3.8.1)\n",
      "Requirement already satisfied: click in c:\\programdata\\anaconda3\\lib\\site-packages (from nltk>=3.8->textblob) (8.0.4)\n",
      "Requirement already satisfied: joblib in c:\\programdata\\anaconda3\\lib\\site-packages (from nltk>=3.8->textblob) (1.2.0)\n",
      "Requirement already satisfied: regex>=2021.8.3 in c:\\programdata\\anaconda3\\lib\\site-packages (from nltk>=3.8->textblob) (2022.7.9)\n",
      "Requirement already satisfied: tqdm in c:\\users\\emura\\appdata\\roaming\\python\\python311\\site-packages (from nltk>=3.8->textblob) (4.66.2)\n",
      "Requirement already satisfied: colorama in c:\\programdata\\anaconda3\\lib\\site-packages (from click->nltk>=3.8->textblob) (0.4.6)\n"
     ]
    }
   ],
   "source": [
    "pip install textblob"
   ]
  },
  {
   "cell_type": "code",
   "execution_count": 94,
   "id": "39695e41",
   "metadata": {},
   "outputs": [
    {
     "data": {
      "text/plain": [
       "TextBlob(\"I have a good book\")"
      ]
     },
     "execution_count": 94,
     "metadata": {},
     "output_type": "execute_result"
    }
   ],
   "source": [
    "from textblob import TextBlob\n",
    "b=TextBlob('I have a goad boak')\n",
    "b.correct()"
   ]
  },
  {
   "cell_type": "code",
   "execution_count": 95,
   "id": "84196e48",
   "metadata": {},
   "outputs": [
    {
     "name": "stdout",
     "output_type": "stream",
     "text": [
      "Defaulting to user installation because normal site-packages is not writeableNote: you may need to restart the kernel to use updated packages.\n",
      "\n",
      "Requirement already satisfied: langdetect in c:\\users\\emura\\appdata\\roaming\\python\\python311\\site-packages (1.0.9)\n",
      "Requirement already satisfied: six in c:\\programdata\\anaconda3\\lib\\site-packages (from langdetect) (1.16.0)\n"
     ]
    }
   ],
   "source": [
    "pip install langdetect"
   ]
  },
  {
   "cell_type": "code",
   "execution_count": 97,
   "id": "f8508c2e",
   "metadata": {},
   "outputs": [],
   "source": [
    "from langdetect import detect"
   ]
  },
  {
   "cell_type": "code",
   "execution_count": 98,
   "id": "9b3d417d",
   "metadata": {},
   "outputs": [
    {
     "data": {
      "text/plain": [
       "'tr'"
      ]
     },
     "execution_count": 98,
     "metadata": {},
     "output_type": "execute_result"
    }
   ],
   "source": [
    "detect('Merhaba arkadaşlar')"
   ]
  },
  {
   "cell_type": "code",
   "execution_count": 99,
   "id": "a21a48f5",
   "metadata": {},
   "outputs": [
    {
     "data": {
      "text/plain": [
       "'de'"
      ]
     },
     "execution_count": 99,
     "metadata": {},
     "output_type": "execute_result"
    }
   ],
   "source": [
    "detect('Ich bin ein Berliner')"
   ]
  },
  {
   "cell_type": "code",
   "execution_count": 100,
   "id": "c904335d",
   "metadata": {
    "collapsed": true
   },
   "outputs": [
    {
     "name": "stdout",
     "output_type": "stream",
     "text": [
      "Defaulting to user installation because normal site-packages is not writeable\n",
      "Requirement already satisfied: googletrans==4.0.0-rc1 in c:\\users\\emura\\appdata\\roaming\\python\\python311\\site-packages (4.0.0rc1)\n",
      "Collecting httpx==0.13.3 (from googletrans==4.0.0-rc1)\n",
      "  Downloading httpx-0.13.3-py3-none-any.whl.metadata (25 kB)\n",
      "Requirement already satisfied: certifi in c:\\programdata\\anaconda3\\lib\\site-packages (from httpx==0.13.3->googletrans==4.0.0-rc1) (2023.7.22)\n",
      "Requirement already satisfied: hstspreload in c:\\users\\emura\\appdata\\roaming\\python\\python311\\site-packages (from httpx==0.13.3->googletrans==4.0.0-rc1) (2024.2.1)\n",
      "Requirement already satisfied: sniffio in c:\\programdata\\anaconda3\\lib\\site-packages (from httpx==0.13.3->googletrans==4.0.0-rc1) (1.2.0)\n",
      "Requirement already satisfied: chardet==3.* in c:\\users\\emura\\appdata\\roaming\\python\\python311\\site-packages (from httpx==0.13.3->googletrans==4.0.0-rc1) (3.0.4)\n",
      "Requirement already satisfied: idna==2.* in c:\\users\\emura\\appdata\\roaming\\python\\python311\\site-packages (from httpx==0.13.3->googletrans==4.0.0-rc1) (2.10)\n",
      "Requirement already satisfied: rfc3986<2,>=1.3 in c:\\users\\emura\\appdata\\roaming\\python\\python311\\site-packages (from httpx==0.13.3->googletrans==4.0.0-rc1) (1.5.0)\n",
      "Collecting httpcore==0.9.* (from httpx==0.13.3->googletrans==4.0.0-rc1)\n",
      "  Downloading httpcore-0.9.1-py3-none-any.whl.metadata (4.6 kB)\n",
      "Collecting h11<0.10,>=0.8 (from httpcore==0.9.*->httpx==0.13.3->googletrans==4.0.0-rc1)\n",
      "  Downloading h11-0.9.0-py2.py3-none-any.whl.metadata (8.1 kB)\n",
      "Requirement already satisfied: h2==3.* in c:\\users\\emura\\appdata\\roaming\\python\\python311\\site-packages (from httpcore==0.9.*->httpx==0.13.3->googletrans==4.0.0-rc1) (3.2.0)\n",
      "Requirement already satisfied: hyperframe<6,>=5.2.0 in c:\\users\\emura\\appdata\\roaming\\python\\python311\\site-packages (from h2==3.*->httpcore==0.9.*->httpx==0.13.3->googletrans==4.0.0-rc1) (5.2.0)\n",
      "Requirement already satisfied: hpack<4,>=3.0 in c:\\users\\emura\\appdata\\roaming\\python\\python311\\site-packages (from h2==3.*->httpcore==0.9.*->httpx==0.13.3->googletrans==4.0.0-rc1) (3.0.0)\n",
      "Using cached httpx-0.13.3-py3-none-any.whl (55 kB)\n",
      "Using cached httpcore-0.9.1-py3-none-any.whl (42 kB)\n",
      "Using cached h11-0.9.0-py2.py3-none-any.whl (53 kB)\n",
      "Installing collected packages: h11, httpcore, httpx\n",
      "  Attempting uninstall: h11\n",
      "    Found existing installation: h11 0.14.0\n",
      "    Uninstalling h11-0.14.0:\n",
      "      Successfully uninstalled h11-0.14.0\n",
      "  Attempting uninstall: httpcore\n",
      "    Found existing installation: httpcore 1.0.4\n",
      "    Uninstalling httpcore-1.0.4:\n",
      "      Successfully uninstalled httpcore-1.0.4\n",
      "  Attempting uninstall: httpx\n",
      "    Found existing installation: httpx 0.27.0\n",
      "    Uninstalling httpx-0.27.0:\n",
      "      Successfully uninstalled httpx-0.27.0\n",
      "Successfully installed h11-0.9.0 httpcore-0.9.1 httpx-0.13.3\n",
      "Note: you may need to restart the kernel to use updated packages.\n"
     ]
    },
    {
     "name": "stderr",
     "output_type": "stream",
     "text": [
      "ERROR: pip's dependency resolver does not currently take into account all the packages that are installed. This behaviour is the source of the following dependency conflicts.\n",
      "jupyterlab 4.1.2 requires httpx>=0.25.0, but you have httpx 0.13.3 which is incompatible.\n",
      "openai 1.12.0 requires httpx<1,>=0.23.0, but you have httpx 0.13.3 which is incompatible.\n",
      "python-telegram-bot 20.5 requires httpx~=0.24.1, but you have httpx 0.13.3 which is incompatible.\n"
     ]
    }
   ],
   "source": [
    "pip install googletrans==4.0.0-rc1"
   ]
  },
  {
   "cell_type": "code",
   "execution_count": 102,
   "id": "2287aabf",
   "metadata": {},
   "outputs": [],
   "source": [
    "from googletrans import Translator\n",
    "translator = Translator()"
   ]
  },
  {
   "cell_type": "code",
   "execution_count": 103,
   "id": "a16b7923",
   "metadata": {},
   "outputs": [
    {
     "name": "stdout",
     "output_type": "stream",
     "text": [
      "Hello people\n"
     ]
    }
   ],
   "source": [
    "text = 'Merhaba İnsanlar'\n",
    "translated = translator.translate(text, src='tr', dest='en')\n",
    "print(translated.text)"
   ]
  },
  {
   "cell_type": "code",
   "execution_count": 106,
   "id": "ad212b23",
   "metadata": {},
   "outputs": [],
   "source": [
    "from sklearn.feature_extraction.text import CountVectorizer,TfidfVectorizer"
   ]
  },
  {
   "cell_type": "code",
   "execution_count": 159,
   "id": "81ef5374",
   "metadata": {},
   "outputs": [],
   "source": [
    "uccumle=['call you tonight', 'Call me a cab','call me please call please']"
   ]
  },
  {
   "cell_type": "code",
   "execution_count": 160,
   "id": "24043986",
   "metadata": {},
   "outputs": [],
   "source": [
    "vect=CountVectorizer()"
   ]
  },
  {
   "cell_type": "code",
   "execution_count": 161,
   "id": "b2aa2c08",
   "metadata": {},
   "outputs": [],
   "source": [
    "import pandas as pd"
   ]
  },
  {
   "cell_type": "code",
   "execution_count": 162,
   "id": "07334eb0",
   "metadata": {},
   "outputs": [],
   "source": [
    "tf=pd.DataFrame(vect.fit_transform(uccumle).toarray(),\n",
    "               columns=vect.get_feature_names_out())"
   ]
  },
  {
   "cell_type": "code",
   "execution_count": 163,
   "id": "31f725a3",
   "metadata": {},
   "outputs": [
    {
     "data": {
      "text/html": [
       "<div>\n",
       "<style scoped>\n",
       "    .dataframe tbody tr th:only-of-type {\n",
       "        vertical-align: middle;\n",
       "    }\n",
       "\n",
       "    .dataframe tbody tr th {\n",
       "        vertical-align: top;\n",
       "    }\n",
       "\n",
       "    .dataframe thead th {\n",
       "        text-align: right;\n",
       "    }\n",
       "</style>\n",
       "<table border=\"1\" class=\"dataframe\">\n",
       "  <thead>\n",
       "    <tr style=\"text-align: right;\">\n",
       "      <th></th>\n",
       "      <th>cab</th>\n",
       "      <th>call</th>\n",
       "      <th>me</th>\n",
       "      <th>please</th>\n",
       "      <th>tonight</th>\n",
       "      <th>you</th>\n",
       "    </tr>\n",
       "  </thead>\n",
       "  <tbody>\n",
       "    <tr>\n",
       "      <th>0</th>\n",
       "      <td>0</td>\n",
       "      <td>1</td>\n",
       "      <td>0</td>\n",
       "      <td>0</td>\n",
       "      <td>1</td>\n",
       "      <td>1</td>\n",
       "    </tr>\n",
       "    <tr>\n",
       "      <th>1</th>\n",
       "      <td>1</td>\n",
       "      <td>1</td>\n",
       "      <td>1</td>\n",
       "      <td>0</td>\n",
       "      <td>0</td>\n",
       "      <td>0</td>\n",
       "    </tr>\n",
       "    <tr>\n",
       "      <th>2</th>\n",
       "      <td>0</td>\n",
       "      <td>2</td>\n",
       "      <td>1</td>\n",
       "      <td>2</td>\n",
       "      <td>0</td>\n",
       "      <td>0</td>\n",
       "    </tr>\n",
       "  </tbody>\n",
       "</table>\n",
       "</div>"
      ],
      "text/plain": [
       "   cab  call  me  please  tonight  you\n",
       "0    0     1   0       0        1    1\n",
       "1    1     1   1       0        0    0\n",
       "2    0     2   1       2        0    0"
      ]
     },
     "execution_count": 163,
     "metadata": {},
     "output_type": "execute_result"
    }
   ],
   "source": [
    "tf"
   ]
  },
  {
   "cell_type": "code",
   "execution_count": 164,
   "id": "311d7f79",
   "metadata": {},
   "outputs": [
    {
     "data": {
      "text/plain": [
       "0.3333333333333333"
      ]
     },
     "execution_count": 164,
     "metadata": {},
     "output_type": "execute_result"
    }
   ],
   "source": [
    "# kelimeleirn geçtiği cümle sayısını toplam cümlesayısınıa oranı\n",
    "olmadigi_cumllerin_sayisi=tf[tf['please']==0].value_counts().sum()\n",
    "(len(tf)-olmadigi_cumllerin_sayisi)/len(tf)"
   ]
  },
  {
   "cell_type": "code",
   "execution_count": 165,
   "id": "e7b82be8",
   "metadata": {},
   "outputs": [],
   "source": [
    "df=vect.transform(uccumle).toarray().sum(axis=0)"
   ]
  },
  {
   "cell_type": "code",
   "execution_count": 166,
   "id": "aed3ab04",
   "metadata": {},
   "outputs": [
    {
     "data": {
      "text/html": [
       "<div>\n",
       "<style scoped>\n",
       "    .dataframe tbody tr th:only-of-type {\n",
       "        vertical-align: middle;\n",
       "    }\n",
       "\n",
       "    .dataframe tbody tr th {\n",
       "        vertical-align: top;\n",
       "    }\n",
       "\n",
       "    .dataframe thead th {\n",
       "        text-align: right;\n",
       "    }\n",
       "</style>\n",
       "<table border=\"1\" class=\"dataframe\">\n",
       "  <thead>\n",
       "    <tr style=\"text-align: right;\">\n",
       "      <th></th>\n",
       "      <th>cab</th>\n",
       "      <th>call</th>\n",
       "      <th>me</th>\n",
       "      <th>please</th>\n",
       "      <th>tonight</th>\n",
       "      <th>you</th>\n",
       "    </tr>\n",
       "  </thead>\n",
       "  <tbody>\n",
       "    <tr>\n",
       "      <th>0</th>\n",
       "      <td>0.0</td>\n",
       "      <td>0.25</td>\n",
       "      <td>0.0</td>\n",
       "      <td>0.0</td>\n",
       "      <td>1.0</td>\n",
       "      <td>1.0</td>\n",
       "    </tr>\n",
       "    <tr>\n",
       "      <th>1</th>\n",
       "      <td>1.0</td>\n",
       "      <td>0.25</td>\n",
       "      <td>0.5</td>\n",
       "      <td>0.0</td>\n",
       "      <td>0.0</td>\n",
       "      <td>0.0</td>\n",
       "    </tr>\n",
       "    <tr>\n",
       "      <th>2</th>\n",
       "      <td>0.0</td>\n",
       "      <td>0.50</td>\n",
       "      <td>0.5</td>\n",
       "      <td>1.0</td>\n",
       "      <td>0.0</td>\n",
       "      <td>0.0</td>\n",
       "    </tr>\n",
       "  </tbody>\n",
       "</table>\n",
       "</div>"
      ],
      "text/plain": [
       "   cab  call   me  please  tonight  you\n",
       "0  0.0  0.25  0.0     0.0      1.0  1.0\n",
       "1  1.0  0.25  0.5     0.0      0.0  0.0\n",
       "2  0.0  0.50  0.5     1.0      0.0  0.0"
      ]
     },
     "execution_count": 166,
     "metadata": {},
     "output_type": "execute_result"
    }
   ],
   "source": [
    "tf/df"
   ]
  },
  {
   "cell_type": "code",
   "execution_count": null,
   "id": "64d40c65",
   "metadata": {},
   "outputs": [],
   "source": []
  },
  {
   "cell_type": "code",
   "execution_count": null,
   "id": "e005ed2f",
   "metadata": {},
   "outputs": [],
   "source": []
  }
 ],
 "metadata": {
  "kernelspec": {
   "display_name": "Python 3 (ipykernel)",
   "language": "python",
   "name": "python3"
  },
  "language_info": {
   "codemirror_mode": {
    "name": "ipython",
    "version": 3
   },
   "file_extension": ".py",
   "mimetype": "text/x-python",
   "name": "python",
   "nbconvert_exporter": "python",
   "pygments_lexer": "ipython3",
   "version": "3.11.5"
  }
 },
 "nbformat": 4,
 "nbformat_minor": 5
}
